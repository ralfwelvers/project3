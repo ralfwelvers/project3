{
 "cells": [
  {
   "cell_type": "code",
   "execution_count": 3,
   "metadata": {},
   "outputs": [
    {
     "name": "stdout",
     "output_type": "stream",
     "text": [
      "Records inserted successfully.\n"
     ]
    }
   ],
   "source": [
    "import sqlite3\n",
    "\n",
    "def create_table(cursor):\n",
    "    cursor.execute('''\n",
    "        CREATE TABLE IF NOT EXISTS cities (\n",
    "            city_name TEXT,\n",
    "            longitude REAL,\n",
    "            latitude REAL\n",
    "        )\n",
    "    ''')\n",
    "\n",
    "def insert_record(cursor, record):\n",
    "    cursor.execute('INSERT INTO cities (city_name, longitude, latitude) VALUES (?, ?, ?)', record)\n",
    "\n",
    "def main():\n",
    "    conn = sqlite3.connect('cities.db')\n",
    "    cursor = conn.cursor()\n",
    "\n",
    "    create_table(cursor)\n",
    "\n",
    "    records_to_insert = [\n",
    "        ('Chicago IL', 41.8781, -87.623177),\n",
    "        ('Denton TX', 33.2148, -97.1330),\n",
    "        ('San Antonio TX', 29.424349, -98.491142)\n",
    "    ]\n",
    "\n",
    "    for record in records_to_insert:\n",
    "        insert_record(cursor, record)\n",
    "\n",
    "    conn.commit()\n",
    "    conn.close()\n",
    "    print(\"Records inserted successfully.\")\n",
    "\n",
    "if __name__ == \"__main__\":\n",
    "    main()\n"
   ]
  },
  {
   "cell_type": "code",
   "execution_count": 1,
   "metadata": {},
   "outputs": [
    {
     "name": "stdout",
     "output_type": "stream",
     "text": [
      "City: Chicago IL\n",
      "Longitude: 41.8781\n",
      "Latitude: -87.623177\n",
      "\n",
      "City: Denton TX\n",
      "Longitude: 33.2148\n",
      "Latitude: -97.133\n",
      "\n",
      "City: San Antonio TX\n",
      "Longitude: 29.424349\n",
      "Latitude: -98.491142\n",
      "\n"
     ]
    }
   ],
   "source": [
    "import sqlite3\n",
    "\n",
    "# Connect to the SQLite database\n",
    "conn = sqlite3.connect('cities.db')\n",
    "cursor = conn.cursor()\n",
    "\n",
    "# Select all records from the cities table\n",
    "cursor.execute('SELECT * FROM cities')\n",
    "records = cursor.fetchall()\n",
    "\n",
    "# Display the records\n",
    "for record in records:\n",
    "    print(\"City:\", record[0])\n",
    "    print(\"Longitude:\", record[1])\n",
    "    print(\"Latitude:\", record[2])\n",
    "    print()\n",
    "\n",
    "# Close the connection\n",
    "conn.close()\n"
   ]
  }
 ],
 "metadata": {
  "kernelspec": {
   "display_name": "dev",
   "language": "python",
   "name": "python3"
  },
  "language_info": {
   "codemirror_mode": {
    "name": "ipython",
    "version": 3
   },
   "file_extension": ".py",
   "mimetype": "text/x-python",
   "name": "python",
   "nbconvert_exporter": "python",
   "pygments_lexer": "ipython3",
   "version": "3.10.11"
  },
  "orig_nbformat": 4
 },
 "nbformat": 4,
 "nbformat_minor": 2
}
